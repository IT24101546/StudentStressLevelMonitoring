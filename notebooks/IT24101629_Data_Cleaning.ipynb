{
  "nbformat": 4,
  "nbformat_minor": 0,
  "metadata": {
    "colab": {
      "provenance": []
    },
    "kernelspec": {
      "name": "python3",
      "display_name": "Python 3"
    },
    "language_info": {
      "name": "python"
    }
  },
  "cells": [
    {
      "cell_type": "markdown",
      "source": [
        "# IT24101629_Data_Cleaning"
      ],
      "metadata": {
        "id": "mY6V8WGzM6Ho"
      }
    },
    {
      "cell_type": "code",
      "execution_count": 1,
      "metadata": {
        "id": "_yvGOqT0Iehu"
      },
      "outputs": [],
      "source": [
        "import os\n",
        "import pandas as pd\n",
        "import numpy as np\n",
        "import matplotlib.pyplot as plt\n",
        "import seaborn as sns"
      ]
    },
    {
      "cell_type": "code",
      "source": [
        "%matplotlib inline\n",
        "sns.set(color_codes=True)"
      ],
      "metadata": {
        "id": "7ePVH4kTIfhW"
      },
      "execution_count": 2,
      "outputs": []
    },
    {
      "cell_type": "code",
      "source": [
        "from google.colab import drive\n",
        "drive.mount('/content/drive')"
      ],
      "metadata": {
        "colab": {
          "base_uri": "https://localhost:8080/"
        },
        "id": "hB9_nLrDIoDP",
        "outputId": "7848fb01-4d54-42bc-a8c3-6c67ea526f39"
      },
      "execution_count": 3,
      "outputs": [
        {
          "output_type": "stream",
          "name": "stdout",
          "text": [
            "Mounted at /content/drive\n"
          ]
        }
      ]
    },
    {
      "cell_type": "code",
      "source": [
        "BASE_PATH = '/content/drive/MyDrive/StudentStressLevelMonitoring'\n",
        "RAW_XLSX = os.path.join(BASE_PATH, 'data/raw/StressLevelDataset1.xlsx')"
      ],
      "metadata": {
        "id": "8qv8FbFBIqSC"
      },
      "execution_count": 4,
      "outputs": []
    },
    {
      "cell_type": "code",
      "source": [
        "OUTPUTS_DRIVE = os.path.join(BASE_PATH, 'results/outputs')\n",
        "os.makedirs(OUTPUTS_DRIVE, exist_ok=True)"
      ],
      "metadata": {
        "id": "I3jadexBIySy"
      },
      "execution_count": 5,
      "outputs": []
    },
    {
      "cell_type": "code",
      "source": [
        "OUTPUTS_DRIVE_EDA= os.path.join(BASE_PATH, 'results/eda_visualizations')\n",
        "os.makedirs(OUTPUTS_DRIVE, exist_ok=True)"
      ],
      "metadata": {
        "id": "b7SDfpUHI6Hk"
      },
      "execution_count": 6,
      "outputs": []
    },
    {
      "cell_type": "code",
      "source": [
        "df = pd.read_excel(RAW_XLSX)"
      ],
      "metadata": {
        "id": "mSAXBP7GI6w5"
      },
      "execution_count": 7,
      "outputs": []
    },
    {
      "cell_type": "code",
      "source": [
        "df_before = df.copy()"
      ],
      "metadata": {
        "id": "dhpdBXrUI9OT"
      },
      "execution_count": 8,
      "outputs": []
    },
    {
      "cell_type": "code",
      "source": [
        "def plot_missingness(dataframe, title, save_path):\n",
        "\n",
        "    miss_cnt = dataframe.isnull().sum().sort_values(ascending=False)\n",
        "    miss_pct = (miss_cnt / len(dataframe) * 100).round(2)\n",
        "    miss_df = miss_pct[miss_cnt > 0]  # only columns with missing data\n",
        "\n",
        "    plt.figure(figsize=(10, max(3, 0.35 * max(1, len(miss_df)))))\n",
        "    if len(miss_df) > 0:\n",
        "        sns.barplot(x=miss_df.values, y=miss_df.index)\n",
        "        plt.xlabel(\"Missing (%)\")\n",
        "        plt.ylabel(\"Columns\")\n",
        "        plt.title(title)\n",
        "        plt.tight_layout()\n",
        "    else:\n",
        "        plt.text(0.5, 0.5, \"No missing values\", ha=\"center\", va=\"center\", fontsize=14)\n",
        "        plt.axis(\"off\")\n",
        "        plt.title(title)\n",
        "\n",
        "    plt.savefig(save_path, dpi=150, bbox_inches=\"tight\")\n",
        "    plt.close()\n",
        "    print(f\"Saved: {save_path}\")"
      ],
      "metadata": {
        "id": "RAAOP_0ZJAeN"
      },
      "execution_count": 9,
      "outputs": []
    },
    {
      "cell_type": "code",
      "source": [
        "print(\"BEFORE CLEANING\")\n",
        "print(\"Shape:\", df_before.shape)\n",
        "print(\"Missing values per column:\\n\", df_before.isnull().sum())\n",
        "\n",
        "plot_missingness(\n",
        "    df_before,\n",
        "    \"Missingness (Before Cleaning)\",\n",
        "    os.path.join(OUTPUTS_DRIVE_EDA, \"missing_before.png\")\n",
        ")\n",
        "\n",
        "df_before.to_csv(os.path.join(OUTPUTS_DRIVE, \"raw_before_cleaning.csv\"), index=False)\n"
      ],
      "metadata": {
        "colab": {
          "base_uri": "https://localhost:8080/"
        },
        "id": "nripLGSBJDc0",
        "outputId": "89c94a97-bfdc-4521-c1b1-7a521b6571cb"
      },
      "execution_count": 10,
      "outputs": [
        {
          "output_type": "stream",
          "name": "stdout",
          "text": [
            "BEFORE CLEANING\n",
            "Shape: (1119, 21)\n",
            "Missing values per column:\n",
            " anxiety_level                   0\n",
            "self_esteem                     5\n",
            "mental_health_history           7\n",
            "depression                      4\n",
            "headache                        6\n",
            "blood_pressure                  6\n",
            "sleep_quality                   6\n",
            "breathing_problem               6\n",
            "noise_level                     4\n",
            "living_conditions               7\n",
            "safety                          7\n",
            "basic_needs                     7\n",
            "academic_performance            7\n",
            "study_load                      7\n",
            "teacher_student_relationship    7\n",
            "future_career_concerns          6\n",
            "social_support                  6\n",
            "peer_pressure                   7\n",
            "extracurricular_activities      4\n",
            "bullying                        8\n",
            "stress_level                    5\n",
            "dtype: int64\n",
            "Saved: /content/drive/MyDrive/StudentStressLevelMonitoring/results/eda_visualizations/missing_before.png\n"
          ]
        }
      ]
    },
    {
      "cell_type": "code",
      "source": [
        "rows_before = len(df_before)\n",
        "cols_before = df_before.shape[1]\n",
        "\n",
        "#Drop missing values rows\n",
        "df_clean = df_before.dropna(axis=0)\n",
        "\n",
        "#Count duplicates and drop them\n",
        "dup_count_before = df_clean.duplicated().sum()\n",
        "df_clean = df_clean.drop_duplicates()"
      ],
      "metadata": {
        "id": "hNy8DabcJJDq"
      },
      "execution_count": 11,
      "outputs": []
    },
    {
      "cell_type": "code",
      "source": [
        "print(\"\\n=== AFTER CLEANING ===\")\n",
        "print(\"Shape:\", df_clean.shape)\n",
        "print(\"Missing values per column:\\n\", df_clean.isnull().sum())\n",
        "\n",
        "plot_missingness(\n",
        "    df_clean,\n",
        "    \"Missingness (After Cleaning)\",\n",
        "    os.path.join(OUTPUTS_DRIVE_EDA, \"missing_after.png\")\n",
        ")\n",
        "\n",
        "\n",
        "rows_after = len(df_clean)\n",
        "cols_after = df_clean.shape[1]"
      ],
      "metadata": {
        "colab": {
          "base_uri": "https://localhost:8080/"
        },
        "id": "d1_DhPoTJr1f",
        "outputId": "6cb18bbe-66f8-467b-bb2d-0ed7c9dffe79"
      },
      "execution_count": 13,
      "outputs": [
        {
          "output_type": "stream",
          "name": "stdout",
          "text": [
            "\n",
            "=== AFTER CLEANING ===\n",
            "Shape: (1100, 21)\n",
            "Missing values per column:\n",
            " anxiety_level                   0\n",
            "self_esteem                     0\n",
            "mental_health_history           0\n",
            "depression                      0\n",
            "headache                        0\n",
            "blood_pressure                  0\n",
            "sleep_quality                   0\n",
            "breathing_problem               0\n",
            "noise_level                     0\n",
            "living_conditions               0\n",
            "safety                          0\n",
            "basic_needs                     0\n",
            "academic_performance            0\n",
            "study_load                      0\n",
            "teacher_student_relationship    0\n",
            "future_career_concerns          0\n",
            "social_support                  0\n",
            "peer_pressure                   0\n",
            "extracurricular_activities      0\n",
            "bullying                        0\n",
            "stress_level                    0\n",
            "dtype: int64\n",
            "Saved: /content/drive/MyDrive/StudentStressLevelMonitoring/results/eda_visualizations/missing_after.png\n"
          ]
        }
      ]
    },
    {
      "cell_type": "code",
      "source": [
        "dropped_rows = rows_before - rows_after\n",
        "pct_dropped = (dropped_rows / rows_before * 100) if rows_before else 0\n",
        "\n",
        "report = f\"\"\"\n",
        "CLEANING REPORT\n",
        "---------------\n",
        "Rows before: {rows_before}\n",
        "Rows after : {rows_after}\n",
        "Dropped rows: {dropped_rows} ({pct_dropped:.2f}%)\n",
        "\n",
        "Columns before: {cols_before}\n",
        "Columns after : {cols_after}\n",
        "\n",
        "Duplicates removed (pre-drop): {dup_count_before}\n",
        "\"\"\"\n",
        "\n",
        "print(report)\n",
        "\n",
        "# Save report text\n",
        "with open(os.path.join(OUTPUTS_DRIVE, \"cleaning_report.txt\"), \"w\") as f:\n",
        "    f.write(report)\n",
        "\n",
        "print(f\"Saved: {os.path.join(OUTPUTS_DRIVE, 'cleaning_report.txt')}\")"
      ],
      "metadata": {
        "colab": {
          "base_uri": "https://localhost:8080/"
        },
        "id": "RZdLl5NlJ5PY",
        "outputId": "afde1b50-bae1-4ebe-e2b8-0d6bd2ed633b"
      },
      "execution_count": 14,
      "outputs": [
        {
          "output_type": "stream",
          "name": "stdout",
          "text": [
            "\n",
            "CLEANING REPORT\n",
            "---------------\n",
            "Rows before: 1119\n",
            "Rows after : 1100\n",
            "Dropped rows: 19 (1.70%)\n",
            "\n",
            "Columns before: 21\n",
            "Columns after : 21\n",
            "\n",
            "Duplicates removed (pre-drop): 11\n",
            "\n",
            "Saved: /content/drive/MyDrive/StudentStressLevelMonitoring/results/outputs/cleaning_report.txt\n"
          ]
        }
      ]
    },
    {
      "cell_type": "code",
      "source": [
        "df_before.dropna().to_csv(os.path.join(OUTPUTS_DRIVE, \"cleaned_dropna.csv\"), index=False)\n",
        "\n",
        "df_clean.to_csv(os.path.join(OUTPUTS_DRIVE, \"cleaned_dropna_no_duplicates.csv\"), index=False)\n",
        "\n",
        "print(\"Saved cleaned CSVs to:\")\n",
        "print(\" -\", os.path.join(OUTPUTS_DRIVE, \"cleaned_dropna.csv\"))\n",
        "print(\" -\", os.path.join(OUTPUTS_DRIVE, \"cleaned_dropna_no_duplicates.csv\"))"
      ],
      "metadata": {
        "colab": {
          "base_uri": "https://localhost:8080/"
        },
        "id": "t05x1DsFKR7B",
        "outputId": "d45fe7e1-a33c-4bb7-a40d-17f8b184008d"
      },
      "execution_count": 15,
      "outputs": [
        {
          "output_type": "stream",
          "name": "stdout",
          "text": [
            "Saved cleaned CSVs to:\n",
            " - /content/drive/MyDrive/StudentStressLevelMonitoring/results/outputs/cleaned_dropna.csv\n",
            " - /content/drive/MyDrive/StudentStressLevelMonitoring/results/outputs/cleaned_dropna_no_duplicates.csv\n"
          ]
        }
      ]
    },
    {
      "cell_type": "code",
      "source": [
        "TARGET = \"stress_level\"  # change if your target uses a different column name\n",
        "if TARGET in df_before.columns:\n",
        "    print(\"\\nTarget balance (BEFORE):\")\n",
        "    print(df_before[TARGET].value_counts(dropna=False))\n",
        "    print(\"\\nTarget balance (AFTER):\")\n",
        "    print(df_clean[TARGET].value_counts(dropna=False))\n"
      ],
      "metadata": {
        "colab": {
          "base_uri": "https://localhost:8080/"
        },
        "id": "7qDw2J0qKnkv",
        "outputId": "a04e2fed-099a-4752-d6a6-69f6300a7002"
      },
      "execution_count": 16,
      "outputs": [
        {
          "output_type": "stream",
          "name": "stdout",
          "text": [
            "\n",
            "Target balance (BEFORE):\n",
            "stress_level\n",
            "0.0    382\n",
            "2.0    374\n",
            "1.0    358\n",
            "NaN      5\n",
            "Name: count, dtype: int64\n",
            "\n",
            "Target balance (AFTER):\n",
            "stress_level\n",
            "0.0    373\n",
            "2.0    369\n",
            "1.0    358\n",
            "Name: count, dtype: int64\n"
          ]
        }
      ]
    },
    {
      "cell_type": "code",
      "source": [],
      "metadata": {
        "id": "CiCdYbTKKuqi"
      },
      "execution_count": null,
      "outputs": []
    }
  ]
}