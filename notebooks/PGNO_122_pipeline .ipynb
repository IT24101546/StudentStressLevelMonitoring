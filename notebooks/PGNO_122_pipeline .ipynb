{
  "nbformat": 4,
  "nbformat_minor": 0,
  "metadata": {
    "colab": {
      "provenance": []
    },
    "kernelspec": {
      "name": "python3",
      "display_name": "Python 3"
    },
    "language_info": {
      "name": "python"
    }
  },
  "cells": [
    {
      "cell_type": "code",
      "execution_count": 1,
      "metadata": {
        "id": "khdwXRCCphtt"
      },
      "outputs": [],
      "source": [
        "import os, json\n",
        "import numpy as np\n",
        "import pandas as pd\n",
        "import matplotlib.pyplot as plt\n",
        "import seaborn as sns"
      ]
    },
    {
      "cell_type": "code",
      "source": [
        "from sklearn.model_selection import train_test_split, StratifiedKFold, cross_val_score\n",
        "from sklearn.impute import SimpleImputer\n",
        "from sklearn.preprocessing import MinMaxScaler\n",
        "from sklearn.feature_selection import SelectKBest, f_classif\n",
        "from sklearn.decomposition import PCA\n",
        "from sklearn.pipeline import Pipeline\n",
        "from sklearn.metrics import (\n",
        "    accuracy_score, f1_score, classification_report,\n",
        "    confusion_matrix\n",
        ")\n",
        "from sklearn.linear_model import LogisticRegression"
      ],
      "metadata": {
        "id": "RoK25gmWplMN"
      },
      "execution_count": 2,
      "outputs": []
    },
    {
      "cell_type": "code",
      "source": [
        "import joblib\n",
        "\n",
        "%matplotlib inline\n",
        "sns.set(color_codes=True)"
      ],
      "metadata": {
        "id": "uxeRZjC_pxsV"
      },
      "execution_count": 3,
      "outputs": []
    },
    {
      "cell_type": "code",
      "source": [
        "from google.colab import drive\n",
        "drive.mount('/content/drive')"
      ],
      "metadata": {
        "colab": {
          "base_uri": "https://localhost:8080/"
        },
        "id": "yXty77uap51z",
        "outputId": "ecf9bb46-bcb0-49b8-e4a8-8824a1df227d"
      },
      "execution_count": 4,
      "outputs": [
        {
          "output_type": "stream",
          "name": "stdout",
          "text": [
            "Mounted at /content/drive\n"
          ]
        }
      ]
    },
    {
      "cell_type": "code",
      "source": [
        "BASE_PATH   = '/content/drive/MyDrive/StudentStressLevelMonitoring'\n",
        "INPUT_CSV   = os.path.join(BASE_PATH, 'results/outputs', 'final_selected_features_dataset.csv')\n",
        "TARGET      = 'stress_level'\n",
        "TEST_SIZE   = 0.2\n",
        "RANDOM_SEED = 42"
      ],
      "metadata": {
        "id": "fXUMJI1wp8CX"
      },
      "execution_count": 5,
      "outputs": []
    },
    {
      "cell_type": "code",
      "source": [
        "K_TOP       = 10\n",
        "N_COMPONENTS= 5"
      ],
      "metadata": {
        "id": "b0RWCuc6qDGk"
      },
      "execution_count": 6,
      "outputs": []
    },
    {
      "cell_type": "code",
      "source": [
        "OUTPUTS_DRIVE = os.path.join(BASE_PATH, 'results/outputs')\n",
        "os.makedirs(OUTPUTS_DRIVE, exist_ok=True)\n",
        "\n",
        "OUTPUTS_DRIVE_EDA = os.path.join(BASE_PATH, 'results/eda_visualizations')\n",
        "os.makedirs(OUTPUTS_DRIVE_EDA, exist_ok=True)\n"
      ],
      "metadata": {
        "id": "pnKW-uT3qOLH"
      },
      "execution_count": 7,
      "outputs": []
    },
    {
      "cell_type": "code",
      "source": [
        "df = pd.read_csv(INPUT_CSV)\n",
        "print(\"Loaded:\", INPUT_CSV, \"| Shape:\", df.shape)\n",
        "display(df.head())\n",
        "\n",
        "if TARGET not in df.columns:\n",
        "    raise ValueError(f\"Target column '{TARGET}' not found in dataset.\")"
      ],
      "metadata": {
        "colab": {
          "base_uri": "https://localhost:8080/",
          "height": 243
        },
        "id": "Vfjp1UJ8qdIn",
        "outputId": "623d9cf8-6ef7-49d3-a236-354659a9d9e5"
      },
      "execution_count": 8,
      "outputs": [
        {
          "output_type": "stream",
          "name": "stdout",
          "text": [
            "Loaded: /content/drive/MyDrive/StudentStressLevelMonitoring/results/outputs/final_selected_features_dataset.csv | Shape: (793, 14)\n"
          ]
        },
        {
          "output_type": "display_data",
          "data": {
            "text/plain": [
              "   health_index  academic_stress  social_environment  self_esteem  headache  \\\n",
              "0          4.50         2.666667            2.333333     0.666667       0.4   \n",
              "1          6.75         3.333333            3.333333     0.266667       1.0   \n",
              "2          4.75         2.333333            2.333333     0.600000       0.4   \n",
              "3          6.25         3.333333            3.333333     0.400000       0.8   \n",
              "4          3.25         3.000000            3.666667     0.933333       0.4   \n",
              "\n",
              "   blood_pressure  sleep_quality  safety  basic_needs  academic_performance  \\\n",
              "0             0.0            0.4     0.6          0.4                   0.6   \n",
              "1             1.0            0.2     0.4          0.4                   0.2   \n",
              "2             0.0            0.4     0.6          0.4                   0.4   \n",
              "3             1.0            0.2     0.4          0.4                   0.4   \n",
              "4             1.0            1.0     0.8          0.6                   0.8   \n",
              "\n",
              "   teacher_student_relationship  future_career_concerns  bullying  \\\n",
              "0                           0.6                     0.6       0.4   \n",
              "1                           0.2                     1.0       1.0   \n",
              "2                           0.6                     0.4       0.4   \n",
              "3                           0.2                     0.8       1.0   \n",
              "4                           0.2                     0.4       1.0   \n",
              "\n",
              "   stress_level  \n",
              "0           1.0  \n",
              "1           2.0  \n",
              "2           1.0  \n",
              "3           2.0  \n",
              "4           1.0  "
            ],
            "text/html": [
              "\n",
              "  <div id=\"df-385925ad-804b-4084-a0c3-35eaae5873f8\" class=\"colab-df-container\">\n",
              "    <div>\n",
              "<style scoped>\n",
              "    .dataframe tbody tr th:only-of-type {\n",
              "        vertical-align: middle;\n",
              "    }\n",
              "\n",
              "    .dataframe tbody tr th {\n",
              "        vertical-align: top;\n",
              "    }\n",
              "\n",
              "    .dataframe thead th {\n",
              "        text-align: right;\n",
              "    }\n",
              "</style>\n",
              "<table border=\"1\" class=\"dataframe\">\n",
              "  <thead>\n",
              "    <tr style=\"text-align: right;\">\n",
              "      <th></th>\n",
              "      <th>health_index</th>\n",
              "      <th>academic_stress</th>\n",
              "      <th>social_environment</th>\n",
              "      <th>self_esteem</th>\n",
              "      <th>headache</th>\n",
              "      <th>blood_pressure</th>\n",
              "      <th>sleep_quality</th>\n",
              "      <th>safety</th>\n",
              "      <th>basic_needs</th>\n",
              "      <th>academic_performance</th>\n",
              "      <th>teacher_student_relationship</th>\n",
              "      <th>future_career_concerns</th>\n",
              "      <th>bullying</th>\n",
              "      <th>stress_level</th>\n",
              "    </tr>\n",
              "  </thead>\n",
              "  <tbody>\n",
              "    <tr>\n",
              "      <th>0</th>\n",
              "      <td>4.50</td>\n",
              "      <td>2.666667</td>\n",
              "      <td>2.333333</td>\n",
              "      <td>0.666667</td>\n",
              "      <td>0.4</td>\n",
              "      <td>0.0</td>\n",
              "      <td>0.4</td>\n",
              "      <td>0.6</td>\n",
              "      <td>0.4</td>\n",
              "      <td>0.6</td>\n",
              "      <td>0.6</td>\n",
              "      <td>0.6</td>\n",
              "      <td>0.4</td>\n",
              "      <td>1.0</td>\n",
              "    </tr>\n",
              "    <tr>\n",
              "      <th>1</th>\n",
              "      <td>6.75</td>\n",
              "      <td>3.333333</td>\n",
              "      <td>3.333333</td>\n",
              "      <td>0.266667</td>\n",
              "      <td>1.0</td>\n",
              "      <td>1.0</td>\n",
              "      <td>0.2</td>\n",
              "      <td>0.4</td>\n",
              "      <td>0.4</td>\n",
              "      <td>0.2</td>\n",
              "      <td>0.2</td>\n",
              "      <td>1.0</td>\n",
              "      <td>1.0</td>\n",
              "      <td>2.0</td>\n",
              "    </tr>\n",
              "    <tr>\n",
              "      <th>2</th>\n",
              "      <td>4.75</td>\n",
              "      <td>2.333333</td>\n",
              "      <td>2.333333</td>\n",
              "      <td>0.600000</td>\n",
              "      <td>0.4</td>\n",
              "      <td>0.0</td>\n",
              "      <td>0.4</td>\n",
              "      <td>0.6</td>\n",
              "      <td>0.4</td>\n",
              "      <td>0.4</td>\n",
              "      <td>0.6</td>\n",
              "      <td>0.4</td>\n",
              "      <td>0.4</td>\n",
              "      <td>1.0</td>\n",
              "    </tr>\n",
              "    <tr>\n",
              "      <th>3</th>\n",
              "      <td>6.25</td>\n",
              "      <td>3.333333</td>\n",
              "      <td>3.333333</td>\n",
              "      <td>0.400000</td>\n",
              "      <td>0.8</td>\n",
              "      <td>1.0</td>\n",
              "      <td>0.2</td>\n",
              "      <td>0.4</td>\n",
              "      <td>0.4</td>\n",
              "      <td>0.4</td>\n",
              "      <td>0.2</td>\n",
              "      <td>0.8</td>\n",
              "      <td>1.0</td>\n",
              "      <td>2.0</td>\n",
              "    </tr>\n",
              "    <tr>\n",
              "      <th>4</th>\n",
              "      <td>3.25</td>\n",
              "      <td>3.000000</td>\n",
              "      <td>3.666667</td>\n",
              "      <td>0.933333</td>\n",
              "      <td>0.4</td>\n",
              "      <td>1.0</td>\n",
              "      <td>1.0</td>\n",
              "      <td>0.8</td>\n",
              "      <td>0.6</td>\n",
              "      <td>0.8</td>\n",
              "      <td>0.2</td>\n",
              "      <td>0.4</td>\n",
              "      <td>1.0</td>\n",
              "      <td>1.0</td>\n",
              "    </tr>\n",
              "  </tbody>\n",
              "</table>\n",
              "</div>\n",
              "    <div class=\"colab-df-buttons\">\n",
              "\n",
              "  <div class=\"colab-df-container\">\n",
              "    <button class=\"colab-df-convert\" onclick=\"convertToInteractive('df-385925ad-804b-4084-a0c3-35eaae5873f8')\"\n",
              "            title=\"Convert this dataframe to an interactive table.\"\n",
              "            style=\"display:none;\">\n",
              "\n",
              "  <svg xmlns=\"http://www.w3.org/2000/svg\" height=\"24px\" viewBox=\"0 -960 960 960\">\n",
              "    <path d=\"M120-120v-720h720v720H120Zm60-500h600v-160H180v160Zm220 220h160v-160H400v160Zm0 220h160v-160H400v160ZM180-400h160v-160H180v160Zm440 0h160v-160H620v160ZM180-180h160v-160H180v160Zm440 0h160v-160H620v160Z\"/>\n",
              "  </svg>\n",
              "    </button>\n",
              "\n",
              "  <style>\n",
              "    .colab-df-container {\n",
              "      display:flex;\n",
              "      gap: 12px;\n",
              "    }\n",
              "\n",
              "    .colab-df-convert {\n",
              "      background-color: #E8F0FE;\n",
              "      border: none;\n",
              "      border-radius: 50%;\n",
              "      cursor: pointer;\n",
              "      display: none;\n",
              "      fill: #1967D2;\n",
              "      height: 32px;\n",
              "      padding: 0 0 0 0;\n",
              "      width: 32px;\n",
              "    }\n",
              "\n",
              "    .colab-df-convert:hover {\n",
              "      background-color: #E2EBFA;\n",
              "      box-shadow: 0px 1px 2px rgba(60, 64, 67, 0.3), 0px 1px 3px 1px rgba(60, 64, 67, 0.15);\n",
              "      fill: #174EA6;\n",
              "    }\n",
              "\n",
              "    .colab-df-buttons div {\n",
              "      margin-bottom: 4px;\n",
              "    }\n",
              "\n",
              "    [theme=dark] .colab-df-convert {\n",
              "      background-color: #3B4455;\n",
              "      fill: #D2E3FC;\n",
              "    }\n",
              "\n",
              "    [theme=dark] .colab-df-convert:hover {\n",
              "      background-color: #434B5C;\n",
              "      box-shadow: 0px 1px 3px 1px rgba(0, 0, 0, 0.15);\n",
              "      filter: drop-shadow(0px 1px 2px rgba(0, 0, 0, 0.3));\n",
              "      fill: #FFFFFF;\n",
              "    }\n",
              "  </style>\n",
              "\n",
              "    <script>\n",
              "      const buttonEl =\n",
              "        document.querySelector('#df-385925ad-804b-4084-a0c3-35eaae5873f8 button.colab-df-convert');\n",
              "      buttonEl.style.display =\n",
              "        google.colab.kernel.accessAllowed ? 'block' : 'none';\n",
              "\n",
              "      async function convertToInteractive(key) {\n",
              "        const element = document.querySelector('#df-385925ad-804b-4084-a0c3-35eaae5873f8');\n",
              "        const dataTable =\n",
              "          await google.colab.kernel.invokeFunction('convertToInteractive',\n",
              "                                                    [key], {});\n",
              "        if (!dataTable) return;\n",
              "\n",
              "        const docLinkHtml = 'Like what you see? Visit the ' +\n",
              "          '<a target=\"_blank\" href=https://colab.research.google.com/notebooks/data_table.ipynb>data table notebook</a>'\n",
              "          + ' to learn more about interactive tables.';\n",
              "        element.innerHTML = '';\n",
              "        dataTable['output_type'] = 'display_data';\n",
              "        await google.colab.output.renderOutput(dataTable, element);\n",
              "        const docLink = document.createElement('div');\n",
              "        docLink.innerHTML = docLinkHtml;\n",
              "        element.appendChild(docLink);\n",
              "      }\n",
              "    </script>\n",
              "  </div>\n",
              "\n",
              "\n",
              "    <div id=\"df-c005d07e-0522-463a-870c-64f09bbd60c5\">\n",
              "      <button class=\"colab-df-quickchart\" onclick=\"quickchart('df-c005d07e-0522-463a-870c-64f09bbd60c5')\"\n",
              "                title=\"Suggest charts\"\n",
              "                style=\"display:none;\">\n",
              "\n",
              "<svg xmlns=\"http://www.w3.org/2000/svg\" height=\"24px\"viewBox=\"0 0 24 24\"\n",
              "     width=\"24px\">\n",
              "    <g>\n",
              "        <path d=\"M19 3H5c-1.1 0-2 .9-2 2v14c0 1.1.9 2 2 2h14c1.1 0 2-.9 2-2V5c0-1.1-.9-2-2-2zM9 17H7v-7h2v7zm4 0h-2V7h2v10zm4 0h-2v-4h2v4z\"/>\n",
              "    </g>\n",
              "</svg>\n",
              "      </button>\n",
              "\n",
              "<style>\n",
              "  .colab-df-quickchart {\n",
              "      --bg-color: #E8F0FE;\n",
              "      --fill-color: #1967D2;\n",
              "      --hover-bg-color: #E2EBFA;\n",
              "      --hover-fill-color: #174EA6;\n",
              "      --disabled-fill-color: #AAA;\n",
              "      --disabled-bg-color: #DDD;\n",
              "  }\n",
              "\n",
              "  [theme=dark] .colab-df-quickchart {\n",
              "      --bg-color: #3B4455;\n",
              "      --fill-color: #D2E3FC;\n",
              "      --hover-bg-color: #434B5C;\n",
              "      --hover-fill-color: #FFFFFF;\n",
              "      --disabled-bg-color: #3B4455;\n",
              "      --disabled-fill-color: #666;\n",
              "  }\n",
              "\n",
              "  .colab-df-quickchart {\n",
              "    background-color: var(--bg-color);\n",
              "    border: none;\n",
              "    border-radius: 50%;\n",
              "    cursor: pointer;\n",
              "    display: none;\n",
              "    fill: var(--fill-color);\n",
              "    height: 32px;\n",
              "    padding: 0;\n",
              "    width: 32px;\n",
              "  }\n",
              "\n",
              "  .colab-df-quickchart:hover {\n",
              "    background-color: var(--hover-bg-color);\n",
              "    box-shadow: 0 1px 2px rgba(60, 64, 67, 0.3), 0 1px 3px 1px rgba(60, 64, 67, 0.15);\n",
              "    fill: var(--button-hover-fill-color);\n",
              "  }\n",
              "\n",
              "  .colab-df-quickchart-complete:disabled,\n",
              "  .colab-df-quickchart-complete:disabled:hover {\n",
              "    background-color: var(--disabled-bg-color);\n",
              "    fill: var(--disabled-fill-color);\n",
              "    box-shadow: none;\n",
              "  }\n",
              "\n",
              "  .colab-df-spinner {\n",
              "    border: 2px solid var(--fill-color);\n",
              "    border-color: transparent;\n",
              "    border-bottom-color: var(--fill-color);\n",
              "    animation:\n",
              "      spin 1s steps(1) infinite;\n",
              "  }\n",
              "\n",
              "  @keyframes spin {\n",
              "    0% {\n",
              "      border-color: transparent;\n",
              "      border-bottom-color: var(--fill-color);\n",
              "      border-left-color: var(--fill-color);\n",
              "    }\n",
              "    20% {\n",
              "      border-color: transparent;\n",
              "      border-left-color: var(--fill-color);\n",
              "      border-top-color: var(--fill-color);\n",
              "    }\n",
              "    30% {\n",
              "      border-color: transparent;\n",
              "      border-left-color: var(--fill-color);\n",
              "      border-top-color: var(--fill-color);\n",
              "      border-right-color: var(--fill-color);\n",
              "    }\n",
              "    40% {\n",
              "      border-color: transparent;\n",
              "      border-right-color: var(--fill-color);\n",
              "      border-top-color: var(--fill-color);\n",
              "    }\n",
              "    60% {\n",
              "      border-color: transparent;\n",
              "      border-right-color: var(--fill-color);\n",
              "    }\n",
              "    80% {\n",
              "      border-color: transparent;\n",
              "      border-right-color: var(--fill-color);\n",
              "      border-bottom-color: var(--fill-color);\n",
              "    }\n",
              "    90% {\n",
              "      border-color: transparent;\n",
              "      border-bottom-color: var(--fill-color);\n",
              "    }\n",
              "  }\n",
              "</style>\n",
              "\n",
              "      <script>\n",
              "        async function quickchart(key) {\n",
              "          const quickchartButtonEl =\n",
              "            document.querySelector('#' + key + ' button');\n",
              "          quickchartButtonEl.disabled = true;  // To prevent multiple clicks.\n",
              "          quickchartButtonEl.classList.add('colab-df-spinner');\n",
              "          try {\n",
              "            const charts = await google.colab.kernel.invokeFunction(\n",
              "                'suggestCharts', [key], {});\n",
              "          } catch (error) {\n",
              "            console.error('Error during call to suggestCharts:', error);\n",
              "          }\n",
              "          quickchartButtonEl.classList.remove('colab-df-spinner');\n",
              "          quickchartButtonEl.classList.add('colab-df-quickchart-complete');\n",
              "        }\n",
              "        (() => {\n",
              "          let quickchartButtonEl =\n",
              "            document.querySelector('#df-c005d07e-0522-463a-870c-64f09bbd60c5 button');\n",
              "          quickchartButtonEl.style.display =\n",
              "            google.colab.kernel.accessAllowed ? 'block' : 'none';\n",
              "        })();\n",
              "      </script>\n",
              "    </div>\n",
              "\n",
              "    </div>\n",
              "  </div>\n"
            ],
            "application/vnd.google.colaboratory.intrinsic+json": {
              "type": "dataframe",
              "summary": "{\n  \"name\": \"    raise ValueError(f\\\"Target column '{TARGET}' not found in dataset\",\n  \"rows\": 5,\n  \"fields\": [\n    {\n      \"column\": \"health_index\",\n      \"properties\": {\n        \"dtype\": \"number\",\n        \"std\": 1.4097872179871684,\n        \"min\": 3.25,\n        \"max\": 6.75,\n        \"num_unique_values\": 5,\n        \"samples\": [\n          6.75,\n          3.25,\n          4.75\n        ],\n        \"semantic_type\": \"\",\n        \"description\": \"\"\n      }\n    },\n    {\n      \"column\": \"academic_stress\",\n      \"properties\": {\n        \"dtype\": \"number\",\n        \"std\": 0.4346134936801766,\n        \"min\": 2.333333333333333,\n        \"max\": 3.333333333333333,\n        \"num_unique_values\": 4,\n        \"samples\": [\n          3.333333333333333,\n          3.0,\n          2.6666666666666665\n        ],\n        \"semantic_type\": \"\",\n        \"description\": \"\"\n      }\n    },\n    {\n      \"column\": \"social_environment\",\n      \"properties\": {\n        \"dtype\": \"number\",\n        \"std\": 0.6236095644623236,\n        \"min\": 2.333333333333333,\n        \"max\": 3.6666666666666665,\n        \"num_unique_values\": 3,\n        \"samples\": [\n          2.333333333333333,\n          3.333333333333333,\n          3.6666666666666665\n        ],\n        \"semantic_type\": \"\",\n        \"description\": \"\"\n      }\n    },\n    {\n      \"column\": \"self_esteem\",\n      \"properties\": {\n        \"dtype\": \"number\",\n        \"std\": 0.2564717874889512,\n        \"min\": 0.2666666666666666,\n        \"max\": 0.9333333333333332,\n        \"num_unique_values\": 5,\n        \"samples\": [\n          0.2666666666666666,\n          0.9333333333333332,\n          0.6\n        ],\n        \"semantic_type\": \"\",\n        \"description\": \"\"\n      }\n    },\n    {\n      \"column\": \"headache\",\n      \"properties\": {\n        \"dtype\": \"number\",\n        \"std\": 0.282842712474619,\n        \"min\": 0.4,\n        \"max\": 1.0,\n        \"num_unique_values\": 3,\n        \"samples\": [\n          0.4,\n          1.0,\n          0.8\n        ],\n        \"semantic_type\": \"\",\n        \"description\": \"\"\n      }\n    },\n    {\n      \"column\": \"blood_pressure\",\n      \"properties\": {\n        \"dtype\": \"number\",\n        \"std\": 0.5477225575051662,\n        \"min\": 0.0,\n        \"max\": 1.0,\n        \"num_unique_values\": 2,\n        \"samples\": [\n          1.0,\n          0.0\n        ],\n        \"semantic_type\": \"\",\n        \"description\": \"\"\n      }\n    },\n    {\n      \"column\": \"sleep_quality\",\n      \"properties\": {\n        \"dtype\": \"number\",\n        \"std\": 0.3286335345030997,\n        \"min\": 0.2,\n        \"max\": 1.0,\n        \"num_unique_values\": 3,\n        \"samples\": [\n          0.4,\n          0.2\n        ],\n        \"semantic_type\": \"\",\n        \"description\": \"\"\n      }\n    },\n    {\n      \"column\": \"safety\",\n      \"properties\": {\n        \"dtype\": \"number\",\n        \"std\": 0.16733200530681513,\n        \"min\": 0.4,\n        \"max\": 0.8,\n        \"num_unique_values\": 3,\n        \"samples\": [\n          0.6000000000000001,\n          0.4\n        ],\n        \"semantic_type\": \"\",\n        \"description\": \"\"\n      }\n    },\n    {\n      \"column\": \"basic_needs\",\n      \"properties\": {\n        \"dtype\": \"number\",\n        \"std\": 0.08944271909999162,\n        \"min\": 0.4,\n        \"max\": 0.6000000000000001,\n        \"num_unique_values\": 2,\n        \"samples\": [\n          0.6000000000000001,\n          0.4\n        ],\n        \"semantic_type\": \"\",\n        \"description\": \"\"\n      }\n    },\n    {\n      \"column\": \"academic_performance\",\n      \"properties\": {\n        \"dtype\": \"number\",\n        \"std\": 0.2280350850198276,\n        \"min\": 0.2,\n        \"max\": 0.8,\n        \"num_unique_values\": 4,\n        \"samples\": [\n          0.2,\n          0.8\n        ],\n        \"semantic_type\": \"\",\n        \"description\": \"\"\n      }\n    },\n    {\n      \"column\": \"teacher_student_relationship\",\n      \"properties\": {\n        \"dtype\": \"number\",\n        \"std\": 0.21908902300206648,\n        \"min\": 0.2,\n        \"max\": 0.6000000000000001,\n        \"num_unique_values\": 2,\n        \"samples\": [\n          0.2,\n          0.6000000000000001\n        ],\n        \"semantic_type\": \"\",\n        \"description\": \"\"\n      }\n    },\n    {\n      \"column\": \"future_career_concerns\",\n      \"properties\": {\n        \"dtype\": \"number\",\n        \"std\": 0.260768096208106,\n        \"min\": 0.4,\n        \"max\": 1.0,\n        \"num_unique_values\": 4,\n        \"samples\": [\n          1.0,\n          0.8\n        ],\n        \"semantic_type\": \"\",\n        \"description\": \"\"\n      }\n    },\n    {\n      \"column\": \"bullying\",\n      \"properties\": {\n        \"dtype\": \"number\",\n        \"std\": 0.3286335345030996,\n        \"min\": 0.4,\n        \"max\": 1.0,\n        \"num_unique_values\": 2,\n        \"samples\": [\n          1.0,\n          0.4\n        ],\n        \"semantic_type\": \"\",\n        \"description\": \"\"\n      }\n    },\n    {\n      \"column\": \"stress_level\",\n      \"properties\": {\n        \"dtype\": \"number\",\n        \"std\": 0.5477225575051661,\n        \"min\": 1.0,\n        \"max\": 2.0,\n        \"num_unique_values\": 2,\n        \"samples\": [\n          2.0,\n          1.0\n        ],\n        \"semantic_type\": \"\",\n        \"description\": \"\"\n      }\n    }\n  ]\n}"
            }
          },
          "metadata": {}
        }
      ]
    },
    {
      "cell_type": "code",
      "source": [
        "numeric_cols = df.select_dtypes(include=[np.number]).columns.tolist()\n",
        "feature_cols = [c for c in numeric_cols if c != TARGET]\n",
        "\n",
        "if not feature_cols:\n",
        "    raise ValueError(\"No numeric feature columns available for training.\")\n",
        "\n",
        "X = df[feature_cols].copy()\n",
        "y = df[TARGET].copy()\n",
        "\n",
        "# Remove rows with missing y\n",
        "mask = ~y.isnull()\n",
        "X, y = X[mask], y[mask]"
      ],
      "metadata": {
        "id": "yqthzx9rqh4v"
      },
      "execution_count": 9,
      "outputs": []
    },
    {
      "cell_type": "code",
      "source": [
        "X_train, X_test, y_train, y_test = train_test_split(\n",
        "    X, y, test_size=TEST_SIZE, random_state=RANDOM_SEED, stratify=y\n",
        ")\n",
        "print(\"Train:\", X_train.shape, \"Test:\", X_test.shape)\n"
      ],
      "metadata": {
        "colab": {
          "base_uri": "https://localhost:8080/"
        },
        "id": "54qhzY6Uqux3",
        "outputId": "2a49cc88-1b3a-4fe7-f065-9464838cf0dc"
      },
      "execution_count": 10,
      "outputs": [
        {
          "output_type": "stream",
          "name": "stdout",
          "text": [
            "Train: (634, 13) Test: (159, 13)\n"
          ]
        }
      ]
    },
    {
      "cell_type": "code",
      "source": [
        "pipe = Pipeline(steps=[\n",
        "    (\"imputer\", SimpleImputer(strategy=\"median\")),\n",
        "    (\"scaler\", MinMaxScaler()),\n",
        "    (\"select\", SelectKBest(score_func=f_classif, k=min(K_TOP, X_train.shape[1]))),\n",
        "    (\"pca\", PCA(n_components=min(N_COMPONENTS, X_train.shape[1]))),\n",
        "    (\"clf\", LogisticRegression(max_iter=2000, n_jobs=None))\n",
        "])"
      ],
      "metadata": {
        "id": "k3GN0Ez-qyOX"
      },
      "execution_count": 19,
      "outputs": []
    },
    {
      "cell_type": "code",
      "source": [
        "cv = StratifiedKFold(n_splits=5, shuffle=True, random_state=RANDOM_SEED)\n",
        "cv_acc = cross_val_score(pipe, X_train, y_train, cv=cv, scoring=\"accuracy\")\n",
        "cv_f1  = cross_val_score(pipe, X_train, y_train, cv=cv, scoring=\"f1_macro\")\n",
        "\n",
        "print(f\"CV Accuracy: mean={cv_acc.mean():.4f} ± {cv_acc.std():.4f}\")\n",
        "print(f\"CV F1-macro: mean={cv_f1.mean():.4f} ± {cv_f1.std():.4f}\")"
      ],
      "metadata": {
        "colab": {
          "base_uri": "https://localhost:8080/"
        },
        "id": "vqjPVDPqrOoV",
        "outputId": "c8d98dea-af56-4295-f517-f5bca67f0d68"
      },
      "execution_count": 20,
      "outputs": [
        {
          "output_type": "stream",
          "name": "stdout",
          "text": [
            "CV Accuracy: mean=0.9448 ± 0.0086\n",
            "CV F1-macro: mean=0.9359 ± 0.0137\n"
          ]
        }
      ]
    },
    {
      "cell_type": "code",
      "source": [
        "pipe.fit(X_train, y_train)\n",
        "y_pred = pipe.predict(X_test)\n",
        "\n",
        "acc = accuracy_score(y_test, y_pred)\n",
        "f1m = f1_score(y_test, y_pred, average=\"macro\")\n",
        "print(f\"\\nTEST Accuracy: {acc:.4f}\")\n",
        "print(f\"TEST F1-macro: {f1m:.4f}\")\n",
        "print(\"\\nClassification Report:\\n\", classification_report(y_test, y_pred))"
      ],
      "metadata": {
        "colab": {
          "base_uri": "https://localhost:8080/"
        },
        "id": "hEw1IfKgrQkk",
        "outputId": "6ba045ab-9006-40bf-a731-ab4245544800"
      },
      "execution_count": 21,
      "outputs": [
        {
          "output_type": "stream",
          "name": "stdout",
          "text": [
            "\n",
            "TEST Accuracy: 0.9748\n",
            "TEST F1-macro: 0.9711\n",
            "\n",
            "Classification Report:\n",
            "               precision    recall  f1-score   support\n",
            "\n",
            "         0.0       0.97      0.97      0.97        64\n",
            "         1.0       1.00      0.98      0.99        64\n",
            "         2.0       0.94      0.97      0.95        31\n",
            "\n",
            "    accuracy                           0.97       159\n",
            "   macro avg       0.97      0.97      0.97       159\n",
            "weighted avg       0.98      0.97      0.97       159\n",
            "\n"
          ]
        }
      ]
    },
    {
      "cell_type": "code",
      "source": [
        "cm = confusion_matrix(y_test, y_pred)\n",
        "plt.figure(figsize=(5,4))\n",
        "sns.heatmap(cm, annot=True, fmt=\"d\", cmap=\"Blues\")\n",
        "plt.title(\"Confusion Matrix (Test)\")\n",
        "plt.xlabel(\"Predicted\")\n",
        "plt.ylabel(\"Actual\")\n",
        "plt.tight_layout()\n",
        "for outdir in [OUTPUTS_DRIVE_EDA]:\n",
        "    p = os.path.join(outdir, \"confusion_matrix.png\")\n",
        "    plt.savefig(p, dpi=150, bbox_inches=\"tight\")\n",
        "    print(\"Saved:\", p)\n",
        "plt.close()"
      ],
      "metadata": {
        "colab": {
          "base_uri": "https://localhost:8080/"
        },
        "id": "SNLK_KHuvkDD",
        "outputId": "db93e036-2bbf-4de0-dade-3179735142b3"
      },
      "execution_count": 22,
      "outputs": [
        {
          "output_type": "stream",
          "name": "stdout",
          "text": [
            "Saved: /content/drive/MyDrive/StudentStressLevelMonitoring/results/eda_visualizations/confusion_matrix.png\n"
          ]
        }
      ]
    },
    {
      "cell_type": "code",
      "source": [
        "MODEL_PATH_DRIVE = os.path.join(OUTPUTS_DRIVE, \"trained_pipeline.joblib\")\n",
        "joblib.dump(pipe, MODEL_PATH_DRIVE)\n",
        "print(\"\\nSaved trained pipeline to:\")\n",
        "print(\" -\", MODEL_PATH_DRIVE)"
      ],
      "metadata": {
        "colab": {
          "base_uri": "https://localhost:8080/"
        },
        "id": "J8M9PfJ0vsg4",
        "outputId": "1ee0b9d1-9025-4662-d216-3ae2958acedc"
      },
      "execution_count": 23,
      "outputs": [
        {
          "output_type": "stream",
          "name": "stdout",
          "text": [
            "\n",
            "Saved trained pipeline to:\n",
            " - /content/drive/MyDrive/StudentStressLevelMonitoring/results/outputs/trained_pipeline.joblib\n"
          ]
        }
      ]
    }
  ]
}