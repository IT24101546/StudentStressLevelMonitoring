{
  "nbformat": 4,
  "nbformat_minor": 0,
  "metadata": {
    "colab": {
      "provenance": []
    },
    "kernelspec": {
      "name": "python3",
      "display_name": "Python 3"
    },
    "language_info": {
      "name": "python"
    }
  },
  "cells": [
    {
      "cell_type": "code",
      "execution_count": 1,
      "metadata": {
        "id": "QYE_YzUcNW3J"
      },
      "outputs": [],
      "source": [
        "import os\n",
        "import pandas as pd\n",
        "import numpy as np\n",
        "import matplotlib.pyplot as plt\n",
        "import seaborn as sns\n",
        "\n",
        "%matplotlib inline\n",
        "sns.set(color_codes=True)"
      ]
    },
    {
      "cell_type": "code",
      "source": [
        "from google.colab import drive\n",
        "drive.mount('/content/drive')"
      ],
      "metadata": {
        "colab": {
          "base_uri": "https://localhost:8080/"
        },
        "id": "KsJ9j5GANsLc",
        "outputId": "fae15c78-b35e-4094-9b2f-5daeead766fb"
      },
      "execution_count": 2,
      "outputs": [
        {
          "output_type": "stream",
          "name": "stdout",
          "text": [
            "Mounted at /content/drive\n"
          ]
        }
      ]
    },
    {
      "cell_type": "code",
      "source": [
        "BASE_PATH = '/content/drive/MyDrive/StudentStressLevelMonitoring'\n",
        "INPUT_CSV = os.path.join(BASE_PATH, 'results/outputs', 'cleaned_dropna_no_duplicates.csv')\n",
        "\n",
        "OUTPUTS_DRIVE = os.path.join(BASE_PATH, 'results/outputs')\n",
        "os.makedirs(OUTPUTS_DRIVE, exist_ok=True)\n",
        "\n",
        "OUTPUTS_DRIVE_EDA = os.path.join(BASE_PATH, 'results/eda_visualizations')\n",
        "os.makedirs(OUTPUTS_DRIVE, exist_ok=True)"
      ],
      "metadata": {
        "id": "P4pmBwHJOFWl"
      },
      "execution_count": 11,
      "outputs": []
    },
    {
      "cell_type": "code",
      "source": [
        "df = pd.read_csv(INPUT_CSV)\n",
        "\n",
        "print(\"Loaded:\", INPUT_CSV)\n",
        "print(\"Shape:\", df.shape)\n"
      ],
      "metadata": {
        "colab": {
          "base_uri": "https://localhost:8080/"
        },
        "id": "mgmT-aV6OpEN",
        "outputId": "9553c849-8bf6-4d81-de3e-89375072e835"
      },
      "execution_count": 12,
      "outputs": [
        {
          "output_type": "stream",
          "name": "stdout",
          "text": [
            "Loaded: /content/drive/MyDrive/StudentStressLevelMonitoring/results/outputs/cleaned_dropna_no_duplicates.csv\n",
            "Shape: (1100, 21)\n"
          ]
        }
      ]
    },
    {
      "cell_type": "code",
      "source": [
        "numeric_cols = df.select_dtypes(include=[np.number]).columns.tolist()\n",
        "if not numeric_cols:\n",
        "    print(\"No numeric columns found. Skipping outlier removal.\")\n",
        "    # Still save a passthrough dataset and a small report\n",
        "    passthrough_path_drive = os.path.join(OUTPUTS_DRIVE, 'dataset_no_outliers.csv')\n",
        "    df.to_csv(passthrough_path_drive, index=False)\n",
        "    with open(os.path.join(OUTPUTS_DRIVE, \"outlier_report.txt\"), \"w\") as f:\n",
        "        f.write(\"No numeric columns; no outlier removal performed.\\n\")\n",
        "else:\n",
        "  def save_boxplot(dataframe, cols, title, save_path):\n",
        "        plt.figure(figsize=(max(12, len(cols)*0.7), 6))\n",
        "        dataframe[cols].boxplot()\n",
        "        plt.xticks(rotation=90)\n",
        "        plt.title(title)\n",
        "        plt.tight_layout()\n",
        "        plt.savefig(save_path, dpi=150, bbox_inches=\"tight\")\n",
        "        plt.close()\n",
        "        print(f\"Saved: {save_path}\")\n",
        ""
      ],
      "metadata": {
        "id": "wznIYLKfPoZ8"
      },
      "execution_count": 17,
      "outputs": []
    },
    {
      "cell_type": "code",
      "source": [
        " save_boxplot(\n",
        "        df, numeric_cols,\n",
        "        \"Numeric Columns — Before Outlier Removal (IQR)\",\n",
        "        os.path.join(OUTPUTS_DRIVE_EDA, \"box_before_outliers.png\")\n",
        "    )"
      ],
      "metadata": {
        "colab": {
          "base_uri": "https://localhost:8080/"
        },
        "id": "0iWAhGpdRrod",
        "outputId": "d1417d2a-f12a-4ebd-acd8-3ba6e66bb115"
      },
      "execution_count": 19,
      "outputs": [
        {
          "output_type": "stream",
          "name": "stdout",
          "text": [
            "Saved: /content/drive/MyDrive/StudentStressLevelMonitoring/results/eda_visualizations/box_before_outliers.png\n"
          ]
        }
      ]
    },
    {
      "cell_type": "code",
      "source": [
        "Q1 = df[numeric_cols].quantile(0.25)\n",
        "Q3 = df[numeric_cols].quantile(0.75)\n",
        "IQR = Q3 - Q1\n",
        "\n",
        "# Columns with non-zero IQR (only these will be used for outlier filtering)\n",
        "usable_cols = IQR[IQR > 0].index.tolist()\n",
        "\n",
        "if not usable_cols:\n",
        "        print(\"All numeric columns have zero IQR (constant values). Skipping outlier removal.\")\n",
        "        df_cleaned = df.copy()\n",
        "        outlier_rows_removed = 0\n",
        "else:\n",
        "        lower_bounds = Q1[usable_cols] - 1.5 * IQR[usable_cols]\n",
        "        upper_bounds = Q3[usable_cols] + 1.5 * IQR[usable_cols]\n",
        "\n",
        "        # Build a boolean mask for rows **within** bounds across usable columns\n",
        "        within_lower = df[usable_cols].ge(lower_bounds, axis=1)\n",
        "        within_upper = df[usable_cols].le(upper_bounds, axis=1)\n",
        "        within_all = within_lower & within_upper\n",
        "\n",
        "        # Keep rows that are within bounds for **all** usable numeric columns\n",
        "        condition = within_all.all(axis=1)\n",
        "\n",
        "        df_cleaned = df[condition].copy()\n",
        "        outlier_rows_removed = len(df) - len(df_cleaned)\n",
        "\n",
        "print(\"Original shape:\", df.shape)\n",
        "print(\"After removing outliers:\", df_cleaned.shape)\n",
        "print(f\"Rows removed as outliers: {outlier_rows_removed}\")\n"
      ],
      "metadata": {
        "colab": {
          "base_uri": "https://localhost:8080/"
        },
        "id": "qvhIML2wSD1H",
        "outputId": "b3d8211b-c705-4194-c968-8adcc4b04373"
      },
      "execution_count": 22,
      "outputs": [
        {
          "output_type": "stream",
          "name": "stdout",
          "text": [
            "Original shape: (1100, 21)\n",
            "After removing outliers: (793, 21)\n",
            "Rows removed as outliers: 307\n"
          ]
        }
      ]
    },
    {
      "cell_type": "code",
      "source": [
        "save_boxplot(\n",
        "        df_cleaned, numeric_cols,\n",
        "        \"Numeric Columns — After Outlier Removal (IQR)\",\n",
        "        os.path.join(OUTPUTS_DRIVE_EDA, \"box_after_outliers.png\")\n",
        "    )"
      ],
      "metadata": {
        "colab": {
          "base_uri": "https://localhost:8080/"
        },
        "id": "MjBxP0YISf6j",
        "outputId": "38514ef3-0049-4ed3-85b6-b11d8dcf35ec"
      },
      "execution_count": 24,
      "outputs": [
        {
          "output_type": "stream",
          "name": "stdout",
          "text": [
            "Saved: /content/drive/MyDrive/StudentStressLevelMonitoring/results/eda_visualizations/box_after_outliers.png\n"
          ]
        }
      ]
    },
    {
      "cell_type": "code",
      "source": [
        "out_csv_drive = os.path.join(OUTPUTS_DRIVE, 'dataset_no_outliers.csv')\n",
        "df_cleaned.to_csv(out_csv_drive, index=False)\n",
        "print(\"Saved no-outlier CSVs to:\")\n",
        "print(\" -\", out_csv_drive)"
      ],
      "metadata": {
        "colab": {
          "base_uri": "https://localhost:8080/"
        },
        "id": "qY9d9Q8ESh5z",
        "outputId": "60f10593-9249-4239-dd22-d349ace80d4f"
      },
      "execution_count": 25,
      "outputs": [
        {
          "output_type": "stream",
          "name": "stdout",
          "text": [
            "Saved no-outlier CSVs to:\n",
            " - /content/drive/MyDrive/StudentStressLevelMonitoring/results/outputs/dataset_no_outliers.csv\n"
          ]
        }
      ]
    }
  ]
}